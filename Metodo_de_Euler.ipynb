{
  "nbformat": 4,
  "nbformat_minor": 0,
  "metadata": {
    "colab": {
      "name": "Metodo_de_Euler",
      "provenance": [],
      "collapsed_sections": [],
      "authorship_tag": "ABX9TyPEYkM8hXUVNDEvYrIooUjZ",
      "include_colab_link": true
    },
    "kernelspec": {
      "name": "python3",
      "display_name": "Python 3"
    },
    "language_info": {
      "name": "python"
    }
  },
  "cells": [
    {
      "cell_type": "markdown",
      "metadata": {
        "id": "view-in-github",
        "colab_type": "text"
      },
      "source": [
        "<a href=\"https://colab.research.google.com/github/kleber293/Metodos_Colab/blob/main/Metodo_de_Euler.ipynb\" target=\"_parent\"><img src=\"https://colab.research.google.com/assets/colab-badge.svg\" alt=\"Open In Colab\"/></a>"
      ]
    },
    {
      "cell_type": "markdown",
      "metadata": {
        "id": "MR8XDWgSNm5p"
      },
      "source": [
        "# MÉTODO DE EULER\n",
        "\n",
        "> Auto: Clebson Marques\n",
        "\n",
        "Este é um métodos considerados mais simples, ele consiste em fazer a aproximação de uma curva atráves da sua derivada. Ou seja, por meio da tangente de uma função solução de uma EDO, conseguindo assim se aproximar da solução por meio de valores $y_1$\n",
        "<center> $y_1=y_0+h\\:g(x_0,\\:y_0)$</center>\n",
        "Na qual $g$ é a função da EDO\n",
        "<center>$f'(x,\\:y)=g(x,\\:y)$</center>\n",
        "\n",
        "---\n",
        "\n",
        "## PROBLEMA PROPOSTO\n",
        "\n",
        "Traçar uma curva aproximada á EDO abaixo, na qual um dos pontos se encontra em $(0, 1)$\n",
        "<center> $f'(x,\\:y) = x + y$ </center>\n",
        "\n",
        "\n",
        "---\n"
      ]
    },
    {
      "cell_type": "code",
      "metadata": {
        "id": "hwGVpQTYOYhi"
      },
      "source": [
        "#@markdown ## Chamando os pacotes\n",
        "import matplotlib.pyplot as mat\n",
        "import numpy as n"
      ],
      "execution_count": 1,
      "outputs": []
    },
    {
      "cell_type": "code",
      "metadata": {
        "id": "bnpC6_FXQB5P"
      },
      "source": [
        "#@markdown ## Definindo as funções que vamos utilizar\n",
        "def g(x, y):\n",
        "    FUNCTION = x+y #@param {type:\"raw\"}  \n",
        "    return FUNCTION\n",
        "\n",
        "#@markdown ---\n",
        "\n",
        "#@markdown * Método de Euler\n",
        "def euler(x0, y0, h): \n",
        "    t1 = g(x0, y0)\n",
        "    y1 = y0 + h*t1\n",
        "    return y1"
      ],
      "execution_count": 2,
      "outputs": []
    },
    {
      "cell_type": "code",
      "metadata": {
        "id": "SqaK_0yl4ota"
      },
      "source": [
        "#@markdown ## Definindo as váriaveis do problema\n",
        "x = 0 #@param {type:\"raw\"}\n",
        "y = 1 #@param {type:\"raw\"}\n",
        "\n",
        "x0, y0 = [x], [y]"
      ],
      "execution_count": 3,
      "outputs": []
    },
    {
      "cell_type": "code",
      "metadata": {
        "id": "sJN2Py5gVxXf"
      },
      "source": [
        "#@markdown ### Criando uma lista de pontos que a função assume ao percorrer a formula sobre a reta tangente a solução.\n",
        "QUANTIDADE = 530 #@param {type:\"slider\", min:0, max:1000, step:10}\n",
        "PASSO = 0.11 #@param {type:\"slider\", min:0.01, max:1, step:0.01}\n",
        "\n",
        "for i in range(QUANTIDADE):\n",
        "    x0.append(x0[i]+PASSO)\n",
        "    y0.append(euler(x0[i], y0[i], PASSO))"
      ],
      "execution_count": 4,
      "outputs": []
    },
    {
      "cell_type": "markdown",
      "metadata": {
        "id": "qRJcSj7l0OAW"
      },
      "source": [
        "---\n",
        "## Caixa de Inspeção tipo GRÁFICOS"
      ]
    },
    {
      "cell_type": "code",
      "metadata": {
        "id": "oOTI8cPgjRGp",
        "colab": {
          "base_uri": "https://localhost:8080/",
          "height": 269
        },
        "outputId": "056119f0-fbd6-48ed-883d-7c28c42ba977"
      },
      "source": [
        "#@markdown ## A nivel de comparação\n",
        "\n",
        "CURVA_SOLUCAO = True #@param {type:\"boolean\"}\n",
        "METODO_DE_EULER = True #@param {type:\"boolean\"}\n",
        "\n",
        "mat.ylim(0, 40000)\n",
        "mat.xlim(0, 10)\n",
        "\n",
        "if CURVA_SOLUCAO: # Curva Original (VERDE)\n",
        "    t = n.arange(0, 10, 0.1)\n",
        "    mat.plot(t, -t-1+2*n.exp(t), color='g', label='Curva solução')\n",
        "\n",
        "if METODO_DE_EULER: # Curva aproximada, euler (PRETO)\n",
        "    mat.plot(x0, y0, color='k', label='Euler')\n",
        "\n",
        "mat.legend()\n",
        "mat.show()"
      ],
      "execution_count": 5,
      "outputs": [
        {
          "output_type": "display_data",
          "data": {
            "image/png": "[encoded data removed]",
            "text/plain": [
              "<Figure size 432x288 with 1 Axes>"
            ]
          },
          "metadata": {
            "tags": [],
            "needs_background": "light"
          }
        }
      ]
    }
  ]
}