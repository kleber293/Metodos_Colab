{
  "nbformat": 4,
  "nbformat_minor": 0,
  "metadata": {
    "colab": {
      "name": "clebson_metodo_de_Runge_Kutta.py",
      "provenance": [],
      "collapsed_sections": [],
      "authorship_tag": "ABX9TyP/WeCbeWJkXJ7YRtbkdsLJ",
      "include_colab_link": true
    },
    "kernelspec": {
      "display_name": "Python 3",
      "name": "python3"
    },
    "language_info": {
      "name": "python"
    }
  },
  "cells": [
    {
      "cell_type": "markdown",
      "metadata": {
        "id": "view-in-github",
        "colab_type": "text"
      },
      "source": [
        "<a href=\"https://colab.research.google.com/github/kleber293/Metodos_Colab/blob/main/Metodo_de_Runge_Kutta_e_outras_aproximacoes.ipynb\" target=\"_parent\"><img src=\"https://colab.research.google.com/assets/colab-badge.svg\" alt=\"Open In Colab\"/></a>"
      ]
    },
    {
      "cell_type": "markdown",
      "metadata": {
        "id": "jLsAcbV2dEoW"
      },
      "source": [
        "## MÉTODO DE RUNGE_KUTTA DE 4º ORDEM\n",
        "\n",
        "Os metódos de Runge Kutta se aproximam mais da curva solução da EDO, quanto maior a ordem do método mais a curva se aproxima da curva da solução basiadas na equação abaixo.\n",
        "\n",
        "<center> $y_{i+1}=y_i+\\text{Inclinação}\\cdot h$ </center>\n",
        "\n",
        "Este metodo se dá por meio da inclinação da EDO, assim como o método de Euler, diferenciando a partir da segunda ordem que tem a inclinação em dois pontos, terceira ordem em três pontos e assim sucessivamente. Associadas a uma expanção em serie de Taylor.\n",
        "\n",
        "<center> <img src='https://lh3.googleusercontent.com/proxy/KlkjNkx47o2hSaC497-FUpoZnvtK-zich6seTLbMrw_kp-Kc1RcW5cexqN8_A3H3KhrtY6yNiF7AhzkbjmcC2r_IQIzA5s-Hkrfmoz9ebdRhOW4NY_r7FGnC') </center>\n",
        "\n",
        "---\n",
        "\n",
        "## PROBLEMA PROPOSTO\n",
        "\n",
        "Traçar uma curva aproximada á EDO abaixo, na qual um dos pontos se encontra em $(0, 1)$\n",
        "<center> $f'(x,\\:y) = x + y$ </center>\n",
        "\n",
        "---\n"
      ]
    },
    {
      "cell_type": "code",
      "metadata": {
        "id": "hwGVpQTYOYhi"
      },
      "source": [
        "#@markdown ## Chamando as bibliotecas\n",
        "import matplotlib.pyplot as mat\n",
        "import numpy as n"
      ],
      "execution_count": 175,
      "outputs": []
    },
    {
      "cell_type": "code",
      "metadata": {
        "id": "2ExxcPWizxu5"
      },
      "source": [
        "#@markdown ### Definindo as funções que vamos utilizar\n",
        "def g(x, y):\n",
        "    FUNCTION = x+y #@param {type:\"raw\"}  \n",
        "    return FUNCTION\n",
        "\n",
        "APROXIMACOES = True #@param {type:\"boolean\"}\n",
        "\n",
        "if APROXIMACOES:\n",
        "    def euler(x0, y0, h):\n",
        "        t1 = g(x0, y0)\n",
        "        y1 = y0 + h*t1\n",
        "        return y1\n",
        "\n",
        "    def euler_modificado(x0, y0, h):\n",
        "        t1 = g(x0, y0)\n",
        "        t2 = g(x0+h, y0 + h*g(x0, y0))\n",
        "        y1 = y0 + h/2*( t1 + t2 )\n",
        "        return y1\n",
        "\n",
        "    def metodo_do_ponto_central(x0, y0, h):\n",
        "        t1 = g(x0, y0)\n",
        "        y1 = y0 + h*g(x0+h/2, y0 + h/2*t1) \n",
        "        return y1\n"
      ],
      "execution_count": 176,
      "outputs": []
    },
    {
      "cell_type": "code",
      "metadata": {
        "id": "A8Qr7Vi-RimY"
      },
      "source": [
        "#@markdown ### Definindo as constantes a2 e b21.\n",
        "def metodo_de_runge_kutta_2_ordem(x0, y0, h):\n",
        "    c1 = 1/2 #@param {type:\"raw\"}\n",
        "    c2 = 1/2 #@param {type:\"raw\"}\n",
        "\n",
        "    a2 = 1 #@param {type:\"raw\"}\n",
        "    \n",
        "    b21 = 1 #@param {type:\"raw\"}\n",
        "\n",
        "    k1 = g(x0, y0)\n",
        "    k2 = g(x0 + a2*h, y0 + b21*k1*h)\n",
        "\n",
        "    y1 = y0 + h*( c1*k1 + c2*k2 )\n",
        "    return y1\n"
      ],
      "execution_count": 177,
      "outputs": []
    },
    {
      "cell_type": "code",
      "metadata": {
        "id": "MQynOYigZycB"
      },
      "source": [
        "#@markdown ### Definindo as constantes a2 e b21.\n",
        "def metodo_de_runge_kutta_3_ordem(x0, y0, h):\n",
        "    c1 = 1/6 #@param {type:\"raw\"}\n",
        "    c2 = 4/6 #@param {type:\"raw\"}\n",
        "    c3 = 1/6 #@param {type:\"raw\"}\n",
        "\n",
        "    a2 = 1/2 #@param {type:\"raw\"}\n",
        "    a3 = 1 #@param {type:\"raw\"}\n",
        "\n",
        "    b21 = 1/2 #@param {type:\"raw\"}\n",
        "    \n",
        "    b31 = -1 #@param {type:\"raw\"}\n",
        "    b32 = 2 #@param {type:\"raw\"}\n",
        "\n",
        "    k1 = g(x0, y0)\n",
        "    k2 = g(x0 + a2*h, y0 + b21*k1*h)\n",
        "    k3 = g(x0 + a3*h, y0 + b31*k1*h + b32*k2*h)\n",
        "\n",
        "    y1 = y0 + h*( c1*k1 + c2*k2 + c3*k3 )\n",
        "    return y1\n"
      ],
      "execution_count": 178,
      "outputs": []
    },
    {
      "cell_type": "code",
      "metadata": {
        "id": "uSGqtgA4c6i9"
      },
      "source": [
        "#@markdown ### Definindo as constantes a2 e b21.\n",
        "def metodo_de_runge_kutta_4_ordem(x0, y0, h):\n",
        "    c1 = 1/6 #@param {type:\"raw\"}\n",
        "    c2 = 2/6 #@param {type:\"raw\"}\n",
        "    c3 = 2/6 #@param {type:\"raw\"}\n",
        "    c4 = 1/6 #@param {type:\"raw\"}    \n",
        "\n",
        "    a2 = 1/2 #@param {type:\"raw\"}\n",
        "    a3 = 1/2 #@param {type:\"raw\"}\n",
        "    a4 = 1 #@param {type:\"raw\"}\n",
        "\n",
        "    b21 = 1/2 #@param {type:\"raw\"}\n",
        "\n",
        "    b31 = 0 #@param {type:\"raw\"}\n",
        "    b32 = 1/2 #@param {type:\"raw\"}\n",
        "\n",
        "    b41 = 0 #@param {type:\"raw\"}\n",
        "    b42 = 0 #@param {type:\"raw\"}\n",
        "    b43 = 1 #@param {type:\"raw\"}\n",
        "\n",
        "    k1 = g(x0, y0)\n",
        "    k2 = g(x0 + a2*h, y0 + b21*k1*h)\n",
        "    k3 = g(x0 + a3*h, y0 + b31*k1*h + b32*k2*h)\n",
        "    k4 = g(x0 + a4*h, y0 + b41*k1*h + b42*k2*h + b43*k3*h)\n",
        "\n",
        "    y1 = y0 + h*( c1*k1 + c2*k2 + c3*k3 + c4*k4 )\n",
        "    return y1"
      ],
      "execution_count": 179,
      "outputs": []
    },
    {
      "cell_type": "code",
      "metadata": {
        "id": "F6sXB-JpeaXx"
      },
      "source": [
        "#@markdown ### Definindo as váriaveis do problema com os seus valores iniciais\n",
        "x = [0] #@param {type:\"raw\"}\n",
        "y = [1] #@param {type:\"raw\"}\n",
        "\n",
        "x0 = [x[0]]\n",
        "\n",
        "if APROXIMACOES:\n",
        "    y0, y1, y2 = [y[0]], [y[0]], [y[0]]\n",
        "\n",
        "y3, y4, y5 = [y[0]], [y[0]], [y[0]]"
      ],
      "execution_count": 180,
      "outputs": []
    },
    {
      "cell_type": "code",
      "metadata": {
        "id": "sJN2Py5gVxXf"
      },
      "source": [
        "#@markdown ### Criando uma lista de pontos que a função assume ao percorrer\n",
        "#@markdown ### a formula sobre a reta tangente a solução.\n",
        "QUANTIDADE = 30 #@param {type:\"slider\", min:0, max:1000, step:10}\n",
        "PASSO = 0.51 #@param {type:\"slider\", min:0.01, max:1, step:0.01}\n",
        "\n",
        "if APROXIMACOES:\n",
        "    for i in range(QUANTIDADE):\n",
        "        x0.append(x0[i]+PASSO)\n",
        "        y0.append(euler(x0[i], y0[i], PASSO))\n",
        "        y1.append(euler_modificado(x0[i], y1[i], PASSO))\n",
        "        y2.append(metodo_do_ponto_central(x0[i], y2[i], PASSO))\n",
        "\n",
        "for i in range(QUANTIDADE):\n",
        "    y3.append(metodo_de_runge_kutta_2_ordem(x0[i], y3[i], PASSO))\n",
        "    y4.append(metodo_de_runge_kutta_3_ordem(x0[i], y4[i], PASSO))\n",
        "    y5.append(metodo_de_runge_kutta_4_ordem(x0[i], y5[i], PASSO))"
      ],
      "execution_count": 181,
      "outputs": []
    },
    {
      "cell_type": "markdown",
      "metadata": {
        "id": "vVRZ3brF5L1C"
      },
      "source": [
        "## CAIXAS DE EXPEÇÃO TIPO GRÁFICOS"
      ]
    },
    {
      "cell_type": "code",
      "metadata": {
        "colab": {
          "base_uri": "https://localhost:8080/",
          "height": 269
        },
        "id": "oOTI8cPgjRGp",
        "outputId": "8b1d3125-266a-4a95-c80d-4539f3d01824"
      },
      "source": [
        "#@markdown ### A nivel de comparação\n",
        "\n",
        "CURVA_SOLUCAO = True #@param {type:\"boolean\"}\n",
        "MÉTODO_DE_EULER = True #@param {type:\"boolean\"}\n",
        "MÉTODO_DE_EULER_MODIFICADO = True #@param {type:\"boolean\"}\n",
        "METODO_DO_PONTO_CENTRAL = True #@param {type:\"boolean\"}\n",
        "METODO_DE_RUNGE_KUTTA_2ª_ORDEM = True #@param {type:\"boolean\"}\n",
        "METODO_DE_RUNGE_KUTTA_3ª_ORDEM = True #@param {type:\"boolean\"}\n",
        "METODO_DE_RUNGE_KUTTA_4ª_ORDEM = True #@param {type:\"boolean\"}\n",
        "\n",
        "mat.ylim(0, 40000)\n",
        "mat.xlim(0, 10)\n",
        "\n",
        "if CURVA_SOLUCAO: # Curva solução (VERDE)\n",
        "    t = n.arange(0, 10, 0.1)\n",
        "    mat.plot(t, -t-1+2*n.exp(t), color='g', label='Curva solução')\n",
        "\n",
        "if APROXIMACOES:\n",
        "    if MÉTODO_DE_EULER: # Curva aproximada, Euler (PRETO)\n",
        "        mat.plot(x0, y0, color='k', label='Euler') \n",
        "\n",
        "    if MÉTODO_DE_EULER_MODIFICADO: # Curva aproximada, euler_modificado (ROSA)\n",
        "        mat.plot(x0, y1, color='m', label='Euler modificado')\n",
        "\n",
        "    if METODO_DO_PONTO_CENTRAL: # Curva aproximada, Ponto central (AZUL)\n",
        "        mat.plot(x0, y2, color='b', label='Ponto central')\n",
        "\n",
        "if METODO_DE_RUNGE_KUTTA_2ª_ORDEM: # Curva aproximada, Ponto central (LARANJA)\n",
        "        mat.plot(x0, y3, color='darkorange', label='Runge kutta de 2ª ordem')\n",
        "\n",
        "if METODO_DE_RUNGE_KUTTA_3ª_ORDEM: # Curva aproximada, Ponto central (VERMELHO)\n",
        "        mat.plot(x0, y4, color='red', label='Runge kutta de 3ª ordem')\n",
        "\n",
        "if METODO_DE_RUNGE_KUTTA_4ª_ORDEM: # Curva aproximada, Ponto central (MAROM)\n",
        "        mat.plot(x0, y5, color='maroon', label='Runge kutta de 4ª ordem')\n",
        "\n",
        "mat.legend()\n",
        "mat.show()\n"
      ],
      "execution_count": 182,
      "outputs": [
        {
          "output_type": "display_data",
          "data": {
            "image/png": "[encoded data removed]",
            "text/plain": [
              "<Figure size 432x288 with 1 Axes>"
            ]
          },
          "metadata": {
            "tags": [],
            "needs_background": "light"
          }
        }
      ]
    }
  ]
}