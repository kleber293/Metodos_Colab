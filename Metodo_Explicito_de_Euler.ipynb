{
  "nbformat": 4,
  "nbformat_minor": 0,
  "metadata": {
    "colab": {
      "name": "clebson_metodo_de_Euler.py",
      "provenance": [],
      "collapsed_sections": [
        "qRJcSj7l0OAW"
      ],
      "authorship_tag": "ABX9TyO+gI0wjQkKLdS5B83mGDNU",
      "include_colab_link": true
    },
    "kernelspec": {
      "name": "python3",
      "display_name": "Python 3"
    },
    "language_info": {
      "name": "python"
    }
  },
  "cells": [
    {
      "cell_type": "markdown",
      "metadata": {
        "id": "view-in-github",
        "colab_type": "text"
      },
      "source": [
        "<a href=\"https://colab.research.google.com/github/kleber293/Metodos_Colab/blob/main/Metodo_Explicito_de_Euler.ipynb\" target=\"_parent\"><img src=\"https://colab.research.google.com/assets/colab-badge.svg\" alt=\"Open In Colab\"/></a>"
      ]
    },
    {
      "cell_type": "markdown",
      "metadata": {
        "id": "MR8XDWgSNm5p"
      },
      "source": [
        "# MÉTODO DE EULER\n",
        "\n",
        "Este é um métodos considerados mais simples, ele consiste em fazer a aproximação de uma curva atráves da sua derivada. Ou seja, por meio da tangente de uma função solução de uma EDO, conseguindo assim se aproximar da solução por meio de valores $y_1$\n",
        "<center> $y_1=y_0+h\\:g(x_0,\\:y_0)$</center>\n",
        "Na qual $g$ é a função da EDO\n",
        "<center>$f'(x,\\:y)=g(x,\\:y)$</center>\n",
        "\n",
        "---\n",
        "\n",
        "## PROBLEMA PROPOSTO\n",
        "\n",
        "Traçar uma curva aproximada á EDO abaixo, na qual um dos pontos se encontra em $(0, 1)$\n",
        "<center> $f'(x,\\:y) = x + y$ </center>\n",
        "\n",
        "\n",
        "---\n"
      ]
    },
    {
      "cell_type": "code",
      "metadata": {
        "id": "hwGVpQTYOYhi"
      },
      "source": [
        "#@markdown ### Chamando os pacotes\n",
        "import matplotlib.pyplot as mat\n",
        "import numpy as n"
      ],
      "execution_count": null,
      "outputs": []
    },
    {
      "cell_type": "code",
      "metadata": {
        "id": "bnpC6_FXQB5P"
      },
      "source": [
        "#@markdown ### Definindo as funções que vamos utilizar\n",
        "def g(x, y):\n",
        "    FUNCTION = x+y #@param {type:\"raw\"}  \n",
        "    return FUNCTION\n",
        "\n",
        "def euler(x0, y0, h):\n",
        "    t1 = g(x0, y0)\n",
        "    y1 = y0 + h*t1\n",
        "    return y1"
      ],
      "execution_count": null,
      "outputs": []
    },
    {
      "cell_type": "code",
      "metadata": {
        "id": "SqaK_0yl4ota"
      },
      "source": [
        "#@markdown ### Definindo as váriaveis do problema\n",
        "x0, y0 = [0], [1]"
      ],
      "execution_count": null,
      "outputs": []
    },
    {
      "cell_type": "code",
      "metadata": {
        "id": "sJN2Py5gVxXf"
      },
      "source": [
        "#@markdown ### Criando uma lista de pontos que a função assume ao percorrer\n",
        "#@markdown ### a formula sobre a reta tangente a solução.\n",
        "QUANTIDADE = 530 #@param {type:\"slider\", min:0, max:1000, step:10}\n",
        "PASSO = 0.11 #@param {type:\"slider\", min:0.01, max:1, step:0.01}\n",
        "\n",
        "for i in range(QUANTIDADE):\n",
        "    x0.append(x0[i]+PASSO)\n",
        "    y0.append(euler(x0[i], y0[i], PASSO))\n"
      ],
      "execution_count": null,
      "outputs": []
    },
    {
      "cell_type": "markdown",
      "metadata": {
        "id": "qRJcSj7l0OAW"
      },
      "source": [
        "---\n",
        "## Caixa de Inspeção tipo GRÁFICOS"
      ]
    },
    {
      "cell_type": "code",
      "metadata": {
        "id": "oOTI8cPgjRGp"
      },
      "source": [
        "#@markdown ### A nivel de comparação\n",
        "\n",
        "CURVA_ORIGINAL = True #@param {type:\"boolean\"}\n",
        "MÉTODO_DE_EULER = True #@param {type:\"boolean\"}\n",
        "\n",
        "mat.ylim(0, 40000)\n",
        "mat.xlim(0, 10)\n",
        "\n",
        "if CURVA_ORIGINAL:\n",
        "    t = n.arange(0, 10, 0.1)\n",
        "    mat.plot(t, -t-1+2*n.exp(t), color='g', label='Curva solução') # Curva Original (VERDE)\n",
        "\n",
        "if MÉTODO_DE_EULER:\n",
        "    mat.plot(x0, y0, color='k', label='Euler') # Curva aproximada, euler (PRETO)\n",
        "\n",
        "mat.legend()\n",
        "mat.show()"
      ],
      "execution_count": null,
      "outputs": []
    }
  ]
}