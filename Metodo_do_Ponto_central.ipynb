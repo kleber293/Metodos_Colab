{
  "nbformat": 4,
  "nbformat_minor": 0,
  "metadata": {
    "colab": {
      "name": "clebson_metodo_do_Ponto_central.py",
      "provenance": [],
      "collapsed_sections": [],
      "authorship_tag": "ABX9TyPqAgkeFeyZo0ihXFMoAMln",
      "include_colab_link": true
    },
    "kernelspec": {
      "display_name": "Python 3",
      "name": "python3"
    },
    "language_info": {
      "name": "python"
    }
  },
  "cells": [
    {
      "cell_type": "markdown",
      "metadata": {
        "id": "view-in-github",
        "colab_type": "text"
      },
      "source": [
        "<a href=\"https://colab.research.google.com/github/kleber293/Metodos_Colab/blob/main/Metodo_do_Ponto_central.ipynb\" target=\"_parent\"><img src=\"https://colab.research.google.com/assets/colab-badge.svg\" alt=\"Open In Colab\"/></a>"
      ]
    },
    {
      "cell_type": "markdown",
      "metadata": {
        "id": "jLsAcbV2dEoW"
      },
      "source": [
        "## METODO DO PONTO MÉDIO\n",
        " \n",
        "O método do ponto médio assim como o método de Euler modificado são métodos de segundo ordem, que acabam se diferenciando em alguns aspectos, enquando o médoto de Euler modificado é a média aritmética entre duas retas o método do ponto médio se utiliza da inclinação da segunda reta aplicado diretamente no ponto $x_0$. Desta forma $y_1$ será\n",
        "<center>$y_1=y_0+h\\cdot g(x_0+\\frac{h}{2},\\:y_0+\\frac{h}{2}\\cdot g(x_0,\\:y_0)).$</center>\n",
        "Na qual $g$ é a função da EDO\n",
        "<center>$f'(x,\\:y)=g(x,\\:y)$</center>\n",
        "\n",
        "---\n",
        "\n",
        "## PROBLEMA PROPOSTO\n",
        "\n",
        "Traçar uma curva aproximada á EDO abaixo, na qual um dos pontos se encontra em $(0, 1)$\n",
        "<center> $f'(x,\\:y) = x + y$ </center>\n",
        "\n",
        "---\n"
      ]
    },
    {
      "cell_type": "code",
      "metadata": {
        "id": "hwGVpQTYOYhi"
      },
      "source": [
        "#@markdown ## Chamando as bibliotecas\n",
        "import matplotlib.pyplot as mat\n",
        "import numpy as n"
      ],
      "execution_count": null,
      "outputs": []
    },
    {
      "cell_type": "code",
      "metadata": {
        "id": "2ExxcPWizxu5"
      },
      "source": [
        "#@markdown ### Definindo as funções que vamos utilizar\n",
        "def g(x, y):\n",
        "    FUNCTION = x+y #@param {type:\"raw\"}  \n",
        "    return FUNCTION\n",
        "\n",
        "def euler(x0, y0, h):\n",
        "    t1 = g(x0, y0)\n",
        "    y1 = y0 + h*t1\n",
        "    return y1\n",
        "\n",
        "def euler_modificado(x0, y0, h):\n",
        "    t1 = g(x0, y0)\n",
        "    t2 = g(x0+h, y0 + h*t1)\n",
        "    y1 = y0 + h/2*( t1 + t2 )\n",
        "    return y1\n",
        "\n",
        "def metodo_do_ponto_central(x0, y0, h):\n",
        "    t1 = g(x0, y0)\n",
        "    y1 = y0 + h*g(x0+h/2, y0 + h/2*t1)\n",
        "    return y1\n"
      ],
      "execution_count": null,
      "outputs": []
    },
    {
      "cell_type": "code",
      "metadata": {
        "id": "F6sXB-JpeaXx"
      },
      "source": [
        "#@markdown ### Definindo as váriaveis do problema\n",
        "x0, y0, y1, y2 = [0], [1], [1], [1]"
      ],
      "execution_count": null,
      "outputs": []
    },
    {
      "cell_type": "code",
      "metadata": {
        "id": "sJN2Py5gVxXf"
      },
      "source": [
        "#@markdown ### Criando uma lista de pontos que a função assume ao percorrer\n",
        "#@markdown ### a formula sobre a reta tangente a solução.\n",
        "QUANTIDADE = 150 #@param {type:\"slider\", min:0, max:1000, step:10}\n",
        "PASSO = 0.6 #@param {type:\"slider\", min:0.01, max:1, step:0.01}\n",
        "\n",
        "for i in range(QUANTIDADE):\n",
        "    x0.append(x0[i]+PASSO)\n",
        "    y0.append(euler(x0[i], y0[i], PASSO))\n",
        "    y1.append(euler_modificado(x0[i], y1[i], PASSO))\n",
        "    y2.append(metodo_do_ponto_central(x0[i], y2[i], PASSO))\n"
      ],
      "execution_count": null,
      "outputs": []
    },
    {
      "cell_type": "markdown",
      "metadata": {
        "id": "vVRZ3brF5L1C"
      },
      "source": [
        "## CAIXAS DE EXPEÇÃO TIPO GRÁFICOS"
      ]
    },
    {
      "cell_type": "code",
      "metadata": {
        "id": "oOTI8cPgjRGp"
      },
      "source": [
        "#@markdown ### A nivel de comparação\n",
        "\n",
        "CURVA_ORIGINAL = True #@param {type:\"boolean\"}\n",
        "METODO_DE_EULER = True #@param {type:\"boolean\"}\n",
        "METODO_DE_EULER_MODIFICADO = True #@param {type:\"boolean\"}\n",
        "METODO_DO_PONTO_CENTRAL = True #@param {type:\"boolean\"}\n",
        "\n",
        "mat.ylim(0, 40000)\n",
        "mat.xlim(0, 10)\n",
        "\n",
        "if CURVA_ORIGINAL:\n",
        "    t = n.arange(0, 10, 0.1)\n",
        "    mat.plot(t, -t-1+2*n.exp(t), color='g', label='Curva solução') # Curva solução (VERDE)\n",
        "\n",
        "if METODO_DE_EULER:\n",
        "    mat.plot(x0, y0, color='k', label='Euler') # Curva aproximada, Euler (PRETO)\n",
        "\n",
        "if METODO_DE_EULER_MODIFICADO:\n",
        "    mat.plot(x0, y1, color='m', label='Euler modificado') # Curva aproximada, Euler modificado (ROSA)\n",
        "\n",
        "if METODO_DO_PONTO_CENTRAL:\n",
        "    mat.plot(x0, y2, color='b', label='Ponto central') # Curva aproximada, Ponto central (AZUL)\n",
        "\n",
        "mat.legend()\n",
        "mat.show()\n"
      ],
      "execution_count": null,
      "outputs": []
    }
  ]
}