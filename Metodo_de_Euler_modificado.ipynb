{
  "nbformat": 4,
  "nbformat_minor": 0,
  "metadata": {
    "colab": {
      "name": "clebson_metodo_de_Euler_modificado.py",
      "provenance": [],
      "collapsed_sections": [
        "vVRZ3brF5L1C"
      ],
      "authorship_tag": "ABX9TyP03OExtf/pUaLVDrD38DPv",
      "include_colab_link": true
    },
    "kernelspec": {
      "display_name": "Python 3",
      "name": "python3"
    },
    "language_info": {
      "name": "python"
    }
  },
  "cells": [
    {
      "cell_type": "markdown",
      "metadata": {
        "id": "view-in-github",
        "colab_type": "text"
      },
      "source": [
        "<a href=\"https://colab.research.google.com/github/kleber293/Metodos_Colab/blob/main/Metodo_de_Euler_modificado.ipynb\" target=\"_parent\"><img src=\"https://colab.research.google.com/assets/colab-badge.svg\" alt=\"Open In Colab\"/></a>"
      ]
    },
    {
      "cell_type": "markdown",
      "metadata": {
        "id": "jLsAcbV2dEoW"
      },
      "source": [
        "## MÉTODO DE EULER MODIFICADO\n",
        "\n",
        "Se utilizando da formula abaixo, para a primeira curva e logo em seguida traçando outra reta seguindo a função da EDO e assim trabalhando com a média das duas\n",
        "<center> $\\overline{y}_{i+1}=y_i+h\\:f(x_i,\\:y_i)$ </center>\n",
        "\n",
        "A ideia se dá por meio da fórmula abaixo, na qual é o metódo de Euler com uma correção do tipo\n",
        "<center> $y_{i+1}=y_i+\\dfrac{h}{2}\\left[f(x_i,\\:y_i)+f(x_{i+1},\\:\\overline{y}_{i+1})\\right]$ </center>\n",
        "\n",
        "---\n",
        "\n",
        "## PROBLEMA PROPOSTO\n",
        "\n",
        "Traçar uma curva aproximada á EDO abaixo, na qual um dos pontos se encontra em $(0, 1)$\n",
        "<center> $f'(x,\\:y) = x + y$ </center>\n",
        "\n",
        "---\n"
      ]
    },
    {
      "cell_type": "code",
      "metadata": {
        "id": "hwGVpQTYOYhi"
      },
      "source": [
        "#@markdown ## Chamando as bibliotecas\n",
        "import matplotlib.pyplot as mat\n",
        "import numpy as n"
      ],
      "execution_count": null,
      "outputs": []
    },
    {
      "cell_type": "code",
      "metadata": {
        "id": "2ExxcPWizxu5"
      },
      "source": [
        "#@markdown ### Definindo as funções que vamos utilizar\n",
        "def g(x, y):\n",
        "    FUNCTION = x+y #@param {type:\"raw\"}  \n",
        "    return FUNCTION\n",
        "\n",
        "def euler(x0, y0, h):\n",
        "    t1 = g(x0, y0)\n",
        "    y1 = y0 + h*t1\n",
        "    return y1\n",
        "\n",
        "def euler_modificado(x0, y0, h):\n",
        "    t1 = g(x0, y0)\n",
        "    t2 = g(x0+h, y0 + h*g(x0, y0))\n",
        "    y1 = y0 + h/2*( t1 + t2 )\n",
        "    return y1\n"
      ],
      "execution_count": null,
      "outputs": []
    },
    {
      "cell_type": "code",
      "metadata": {
        "id": "F6sXB-JpeaXx"
      },
      "source": [
        "#@markdown ### Definindo as váriaveis do problema\n",
        "x0, y0, y1 = [0], [1], [1]"
      ],
      "execution_count": null,
      "outputs": []
    },
    {
      "cell_type": "code",
      "metadata": {
        "id": "sJN2Py5gVxXf"
      },
      "source": [
        "#@markdown ### Criando uma lista de pontos que a função assume ao percorrer\n",
        "#@markdown ### a formula sobre a reta tangente a solução.\n",
        "QUANTIDADE = 470 #@param {type:\"slider\", min:0, max:1000, step:10}\n",
        "PASSO = 0.2 #@param {type:\"slider\", min:0.01, max:1, step:0.01}\n",
        " \n",
        "for i in range(QUANTIDADE):\n",
        "    x0.append(x0[i]+PASSO)\n",
        "    y0.append(euler(x0[i], y0[i], PASSO))\n",
        "    y1.append(euler_modificado(x0[i], y1[i], PASSO))\n",
        "  "
      ],
      "execution_count": null,
      "outputs": []
    },
    {
      "cell_type": "markdown",
      "metadata": {
        "id": "vVRZ3brF5L1C"
      },
      "source": [
        "## CAIXAS DE EXPEÇÃO TIPO GRÁFICOS"
      ]
    },
    {
      "cell_type": "code",
      "metadata": {
        "id": "oOTI8cPgjRGp"
      },
      "source": [
        "#@markdown ### A nivel de comparação\n",
        "\n",
        "CURVA_SOLUCAO = True #@param {type:\"boolean\"}\n",
        "MÉTODO_DE_EULER = True #@param {type:\"boolean\"}\n",
        "MÉTODO_DE_EULER_MODIFICADO = True #@param {type:\"boolean\"}\n",
        "\n",
        "mat.ylim(0, 40000)\n",
        "mat.xlim(0, 10)\n",
        "\n",
        "if CURVA_SOLUCAO:\n",
        "    t = n.arange(0, 10, 0.1)\n",
        "    mat.plot(t, -t-1+2*n.exp(t), color='g', label='Curva solução') # Curva solução (VERDE)\n",
        "\n",
        "if MÉTODO_DE_EULER:\n",
        "    mat.plot(x0, y0, color='k', label='Euler') # Curva aproximada, Euler (PRETO)\n",
        "\n",
        "if MÉTODO_DE_EULER_MODIFICADO:\n",
        "    mat.plot(x0, y1, color='m', label='Euler modificado') # Curva aproximada, euler_modificado (ROSA)\n",
        "\n",
        "mat.legend()\n",
        "mat.show()\n"
      ],
      "execution_count": null,
      "outputs": []
    }
  ]
}