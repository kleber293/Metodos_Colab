{
  "nbformat": 4,
  "nbformat_minor": 0,
  "metadata": {
    "colab": {
      "name": "Metodo_de_Newton_Raphson",
      "provenance": [],
      "collapsed_sections": [],
      "authorship_tag": "ABX9TyNaAlRITJnDjTFPPsXj6Ylj",
      "include_colab_link": true
    },
    "kernelspec": {
      "display_name": "Python 3",
      "name": "python3"
    },
    "language_info": {
      "name": "python"
    }
  },
  "cells": [
    {
      "cell_type": "markdown",
      "metadata": {
        "id": "view-in-github",
        "colab_type": "text"
      },
      "source": [
        "<a href=\"https://colab.research.google.com/github/kleber293/Metodos_Colab/blob/main/Metodo_de_Newton_Raphson.ipynb\" target=\"_parent\"><img src=\"https://colab.research.google.com/assets/colab-badge.svg\" alt=\"Open In Colab\"/></a>"
      ]
    },
    {
      "cell_type": "markdown",
      "metadata": {
        "id": "50w9BZQl67Le"
      },
      "source": [
        "## MÉTODO DE NEWTON\n",
        "\n",
        "Iniciamos com um ponto \"próximo\" do valor da raiz, digamos $x_1$ traçamos uma reta tangente ao gráfico no ponto\n",
        "<center>$P_0=(x_1,f(x_1))$;</center>\n",
        "\n",
        "Essa reta intercepta o eixo $x$ em $x_2$; traçando novamente uma reta em\n",
        "\n",
        "<center>$P_1=(x_2,f(x_2))$</center>\n",
        "\n",
        "Esta reta vai interceptar o eixo $x$ em um novo ponto $x_3$ e seguimos o mesmo processo de antes, se aproximando cada vez mais de uma raiz da função $f$.\n",
        "\n",
        "---\n",
        "\n",
        "## PROBLEMA PROPOSTO\n",
        "\n",
        "Determinar uma das raizem da função<center>$f(x, y) = e^{⁻x}\\cdot (x^4-10x^2)+1$</center>\n",
        "\n",
        "---"
      ]
    },
    {
      "cell_type": "code",
      "metadata": {
        "id": "GZGSp2sQ6598"
      },
      "source": [
        "#@markdown ## Chamando as bibliotecas\n",
        "import matplotlib.pyplot as mat\n",
        "import numpy as n\n",
        "import sympy as s "
      ],
      "execution_count": 13,
      "outputs": []
    },
    {
      "cell_type": "code",
      "metadata": {
        "id": "ksdto2qp_bZj"
      },
      "source": [
        "#@markdown ## Curvas tangentes.\n",
        "x1 = s.Symbol('x1')\n",
        "f = s.exp(-x1)*(x1**4-10*x1**2)+1 #@param {type:\"raw\"}\n",
        "\n",
        "f1 = s.lambdify(x1, f, 'numpy')\n",
        "f2 = s.lambdify(x1, f.diff(x1), 'numpy')"
      ],
      "execution_count": 14,
      "outputs": []
    },
    {
      "cell_type": "code",
      "metadata": {
        "id": "waRqLrm_kQMG"
      },
      "source": [
        "#@markdown ## Efetuando o processo de aproximações defina o ponto de partida (p) e a quantidade de passos (q).\n",
        "p = 1 #@param {type:\"raw\"}\n",
        "q = 100 #@param {type:\"slider\", min:1, max:500, step:1}\n",
        "\n",
        "for i in range(q):\n",
        "    p = p-f1(p)/f2(p)"
      ],
      "execution_count": 15,
      "outputs": []
    },
    {
      "cell_type": "markdown",
      "metadata": {
        "id": "YFOWTnldzpnb"
      },
      "source": [
        "## CAIXA DE EXPEÇÃO TIPO GRÁFICOS"
      ]
    },
    {
      "cell_type": "code",
      "metadata": {
        "id": "JI3Qk0lQWxBm",
        "colab": {
          "base_uri": "https://localhost:8080/",
          "height": 282
        },
        "outputId": "55284d30-047e-4606-a3f0-42dcfb53798e"
      },
      "source": [
        "FUNCTION = True #@param {type:\"boolean\"}\n",
        "RAIZ = True #@param {type:\"boolean\"}\n",
        "VALOR_DA_RAIZ = True #@param {type:\"boolean\"}\n",
        "\n",
        "\n",
        "mat.axhline()\n",
        "\n",
        "if FUNCTION:\n",
        "    x = n.arange(0, 10, 0.1)\n",
        "    mat.plot(x, f1(x), color='g', label='Função f(x, y)')\n",
        "\n",
        "if RAIZ:\n",
        "    mat.plot(p, 0, 'o', color='m', label=f'Raiz da função f(x, y) em ~ {round(p, 2)}x')\n",
        "\n",
        "mat.legend()\n",
        "mat.show()\n",
        "\n",
        "if VALOR_DA_RAIZ:\n",
        "    print(f\"O valor de uma das raizes é aproximadamente {p}x\")"
      ],
      "execution_count": 16,
      "outputs": [
        {
          "output_type": "display_data",
          "data": {
            "image/png": "[encoded data removed]",
            "text/plain": [
              "<Figure size 432x288 with 1 Axes>"
            ]
          },
          "metadata": {
            "tags": [],
            "needs_background": "light"
          }
        },
        {
          "output_type": "stream",
          "text": [
            "O valor de uma das raizes é aproximadamente 0.38655191951925266x\n"
          ],
          "name": "stdout"
        }
      ]
    }
  ]
}